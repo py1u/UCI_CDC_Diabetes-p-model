{
 "cells": [
  {
   "cell_type": "markdown",
   "metadata": {},
   "source": [
    "# UCI Diabetes Prediciton Model \n",
    "# Project on UCI Machine Learning Repository: CDC Diabetes Health Indicators\n",
    "\n",
    "Abstract: This project aims to dectect unlying bias that is not explicitly discoverable in our dataset by performing exploratory data analysis and machine learning.\n",
    " \n",
    "By Peter Lu"
   ]
  },
  {
   "cell_type": "markdown",
   "metadata": {},
   "source": [
    "**Dataset description:** 253,680 rows × 22 columns\n",
    "\n",
    "Diabetes_binary: 0 = no diabetes, 1 = prediabetes or diabetes\n",
    "\n",
    "HighBP: 0 = no high, BP 1 = high BP\n",
    "\n",
    "HighChol: 0 = no high cholesterol, 1 = high cholesterol\n",
    "\n",
    "CholCheck: 0 = no cholesterol check in 5 years, 1 = yes cholesterol check in 5 years\n",
    "\n",
    "BMI: Body Mass Index\n",
    "\n",
    "Smoker: Have you smoked at least 100 cigarettes in your entire life? [Note: 5 packs = 100 cigarettes]. 0 = no, 1 = yes\n",
    "\n",
    "Stroke: (Ever told) you had a stroke. 0 = no, 1 = yes\n",
    "\n",
    "HeartDiseaseorAttack: coronary heart disease (CHD) or myocardial infarction (MI). 0 = no, 1 = yes\n",
    "\n",
    "PhysActivity: physical activity in past 30 days - not including job. 0 = no, 1 = yes\n",
    "\n",
    "Fruits: Consume Fruit 1 or more times per day, 0 = no, 1 = yes\n",
    "\n",
    "Veggies: Consume Vegetables 1 or more times per day. 0 = no, 1 = yes\n",
    "\n",
    "HvyAlcoholConsump: Heavy drinkers (adult men having more than 14 drinks per week and adult women having more than 7 drinks per week). 0 = no, 1 = yes\n",
    "\n",
    "AnyHealthcare: Have any kind of health care coverage, including health insurance, prepaid plans such as HMO, etc. 0 = no, 1 = yes\n",
    "\n",
    "NoDocbcCost: Was there a time in the past 12 months when you needed to see a doctor but could not because of cost? 0 = no, 1 = yes\n",
    "\n",
    "GenHlth: Would you say that in general your health is: scale 1-5, 1 = excellent, 2 = very good, 3 = good, 4 = fair, 5 = poor\n",
    "\n",
    "MentHlth: Now thinking about your mental health, which includes stress, depression, and problems with emotions, for how many days during the past 30 days was your mental health not good? scale 1-30 days\n",
    "\n",
    "PhysHlth: Now thinking about your physical health, which includes physical illness and injury, for how many days during the past 30 days was your physical health not good? scale 1-30 days\n",
    "\n",
    "DiffWalk: Do you have serious difficulty walking or climbing stairs? 0 = no, 1 = yes\n",
    "\n",
    "Sex: 0 = female, 1 = male\n",
    "\n",
    "Age:\tAge\t13-level age category (_AGEG5YR see codebook). 1 = 18-24, 9 = 60-64, 13 = 80 or older\n",
    "\n",
    "Education: Education Level\tEducation level (EDUCA see codebook). scale 1-6, 1 = Never attended school or only kindergarten, 2 = Grades 1 through 8 (Elementary), 3 = Grades 9 through 11 (Some high school), 4 = Grade 12 or GED (High school graduate), 5 = College 1 year to 3 years (Some college or technical school), 6 = College 4 years or more (College graduate)\n",
    "\n",
    "Income: Income scale (INCOME2 see codebook). scale 1-8, 1 = less than 10,000, 5 = less than 35,000, 8 = 75,000 or more"
   ]
  },
  {
   "cell_type": "markdown",
   "metadata": {},
   "source": []
  }
 ],
 "metadata": {
  "kernelspec": {
   "display_name": "Python 3",
   "language": "python",
   "name": "python3"
  },
  "language_info": {
   "codemirror_mode": {
    "name": "ipython",
    "version": 3
   },
   "file_extension": ".py",
   "mimetype": "text/x-python",
   "name": "python",
   "nbconvert_exporter": "python",
   "pygments_lexer": "ipython3",
   "version": "3.11.3"
  }
 },
 "nbformat": 4,
 "nbformat_minor": 2
}
