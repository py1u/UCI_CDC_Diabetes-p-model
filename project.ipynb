{
 "cells": [
  {
   "cell_type": "code",
   "execution_count": 1,
   "metadata": {},
   "outputs": [],
   "source": [
    "import numpy as np\n",
    "import matplotlib.pyplot as plt"
   ]
  },
  {
   "cell_type": "code",
   "execution_count": 2,
   "metadata": {},
   "outputs": [
    {
     "name": "stdout",
     "output_type": "stream",
     "text": [
      "Hello World\n"
     ]
    }
   ],
   "source": [
    "print(\"Hello World\")"
   ]
  },
  {
   "cell_type": "code",
   "execution_count": 3,
   "metadata": {},
   "outputs": [
    {
     "name": "stdout",
     "output_type": "stream",
     "text": [
      "{'uci_id': 891, 'name': 'CDC Diabetes Health Indicators', 'repository_url': 'https://archive.ics.uci.edu/dataset/891/cdc+diabetes+health+indicators', 'data_url': 'https://archive.ics.uci.edu/static/public/891/data.csv', 'abstract': 'The Diabetes Health Indicators Dataset contains healthcare statistics and lifestyle survey information about people in general along with their diagnosis of diabetes. The 35 features consist of some demographics, lab test results, and answers to survey questions for each patient. The target variable for classification is whether a patient has diabetes, is pre-diabetic, or healthy. ', 'area': 'Health and Medicine', 'tasks': ['Classification'], 'characteristics': ['Tabular', 'Multivariate'], 'num_instances': 253680, 'num_features': 21, 'feature_types': ['Categorical', 'Integer'], 'demographics': ['Sex', 'Age', 'Education Level', 'Income'], 'target_col': ['Diabetes_binary'], 'index_col': ['ID'], 'has_missing_values': 'no', 'missing_values_symbol': None, 'year_of_dataset_creation': 2017, 'last_updated': 'Fri Nov 03 2023', 'dataset_doi': '10.24432/C53919', 'creators': [], 'intro_paper': {'title': 'Incidence of End-Stage Renal Disease Attributed to Diabetes Among Persons with Diagnosed Diabetes — United States and Puerto Rico, 2000–2014', 'authors': 'Nilka Rios Burrows, MPH; Israel Hora, PhD; Linda S. Geiss, MA; Edward W. Gregg, PhD; Ann Albright, PhD', 'published_in': 'Morbidity and Mortality Weekly Report', 'year': 2017, 'url': 'https://www.cdc.gov/mmwr/volumes/66/wr/mm6643a2.htm', 'doi': None}, 'additional_info': {'summary': 'Dataset link: https://www.cdc.gov/brfss/annual_data/annual_2014.html', 'purpose': 'To better understand the relationship between  lifestyle and diabetes in the US', 'funded_by': 'The CDC', 'instances_represent': 'Each row represents a person participating in this study.', 'recommended_data_splits': 'Cross validation or a fixed train-test split could be used.', 'sensitive_data': '- Gender\\n- Income\\n- Education level', 'preprocessing_description': 'Bucketing of age', 'variable_info': '- Diabetes diagnosis\\n- Demographics (race, sex)\\n- Personal information (income, educations)\\n- Health history (drinking, smoking, mental health, physical health)', 'citation': None}, 'external_url': 'https://www.kaggle.com/datasets/alexteboul/diabetes-health-indicators-dataset'}\n",
      "                    name     role     type      demographic  \\\n",
      "0                     ID       ID  Integer             None   \n",
      "1        Diabetes_binary   Target   Binary             None   \n",
      "2                 HighBP  Feature   Binary             None   \n",
      "3               HighChol  Feature   Binary             None   \n",
      "4              CholCheck  Feature   Binary             None   \n",
      "5                    BMI  Feature  Integer             None   \n",
      "6                 Smoker  Feature   Binary             None   \n",
      "7                 Stroke  Feature   Binary             None   \n",
      "8   HeartDiseaseorAttack  Feature   Binary             None   \n",
      "9           PhysActivity  Feature   Binary             None   \n",
      "10                Fruits  Feature   Binary             None   \n",
      "11               Veggies  Feature   Binary             None   \n",
      "12     HvyAlcoholConsump  Feature   Binary             None   \n",
      "13         AnyHealthcare  Feature   Binary             None   \n",
      "14           NoDocbcCost  Feature   Binary             None   \n",
      "15               GenHlth  Feature  Integer             None   \n",
      "16              MentHlth  Feature  Integer             None   \n",
      "17              PhysHlth  Feature  Integer             None   \n",
      "18              DiffWalk  Feature   Binary             None   \n",
      "19                   Sex  Feature   Binary              Sex   \n",
      "20                   Age  Feature  Integer              Age   \n",
      "21             Education  Feature  Integer  Education Level   \n",
      "22                Income  Feature  Integer           Income   \n",
      "\n",
      "                                          description units missing_values  \n",
      "0                                          Patient ID  None             no  \n",
      "1         0 = no diabetes 1 = prediabetes or diabetes  None             no  \n",
      "2                          0 = no high BP 1 = high BP  None             no  \n",
      "3        0 = no high cholesterol 1 = high cholesterol  None             no  \n",
      "4   0 = no cholesterol check in 5 years 1 = yes ch...  None             no  \n",
      "5                                     Body Mass Index  None             no  \n",
      "6   Have you smoked at least 100 cigarettes in you...  None             no  \n",
      "7        (Ever told) you had a stroke. 0 = no 1 = yes  None             no  \n",
      "8   coronary heart disease (CHD) or myocardial inf...  None             no  \n",
      "9   physical activity in past 30 days - not includ...  None             no  \n",
      "10  Consume Fruit 1 or more times per day 0 = no 1...  None             no  \n",
      "11  Consume Vegetables 1 or more times per day 0 =...  None             no  \n",
      "12  Heavy drinkers (adult men having more than 14 ...  None             no  \n",
      "13  Have any kind of health care coverage, includi...  None             no  \n",
      "14  Was there a time in the past 12 months when yo...  None             no  \n",
      "15  Would you say that in general your health is: ...  None             no  \n",
      "16  Now thinking about your mental health, which i...  None             no  \n",
      "17  Now thinking about your physical health, which...  None             no  \n",
      "18  Do you have serious difficulty walking or clim...  None             no  \n",
      "19                                0 = female 1 = male  None             no  \n",
      "20  13-level age category (_AGEG5YR see codebook) ...  None             no  \n",
      "21  Education level (EDUCA see codebook) scale 1-6...  None             no  \n",
      "22  Income scale (INCOME2 see codebook) scale 1-8 ...  None             no  \n"
     ]
    }
   ],
   "source": [
    "from ucimlrepo import fetch_ucirepo \n",
    "  \n",
    "# fetch dataset \n",
    "cdc_diabetes_health_indicators = fetch_ucirepo(id=891) \n",
    "  \n",
    "# data (as pandas dataframes) \n",
    "X = cdc_diabetes_health_indicators.data.features \n",
    "y = cdc_diabetes_health_indicators.data.targets \n",
    "  \n",
    "# metadata \n",
    "print(cdc_diabetes_health_indicators.metadata) \n",
    "  \n",
    "# variable information \n",
    "print(cdc_diabetes_health_indicators.variables) \n"
   ]
  }
 ],
 "metadata": {
  "kernelspec": {
   "display_name": "Python 3",
   "language": "python",
   "name": "python3"
  },
  "language_info": {
   "codemirror_mode": {
    "name": "ipython",
    "version": 3
   },
   "file_extension": ".py",
   "mimetype": "text/x-python",
   "name": "python",
   "nbconvert_exporter": "python",
   "pygments_lexer": "ipython3",
   "version": "3.11.3"
  }
 },
 "nbformat": 4,
 "nbformat_minor": 2
}
